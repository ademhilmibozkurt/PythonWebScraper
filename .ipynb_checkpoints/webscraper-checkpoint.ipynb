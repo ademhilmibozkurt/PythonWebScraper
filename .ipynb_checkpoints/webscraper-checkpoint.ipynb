{
 "cells": [
  {
   "cell_type": "markdown",
   "id": "7eb9c912-fc42-4ffe-83a7-955b9e811a8a",
   "metadata": {},
   "source": [
    "# Python Web Scraper"
   ]
  },
  {
   "cell_type": "markdown",
   "id": "924d01f1-4a47-4be2-a2b8-337d3b418b83",
   "metadata": {},
   "source": [
    "## Import Libraries"
   ]
  },
  {
   "cell_type": "code",
   "execution_count": 1,
   "id": "f7e90ddb-f178-43ce-b11d-57690d06ab31",
   "metadata": {},
   "outputs": [],
   "source": [
    "import requests\n",
    "import pandas as pd\n",
    "from bs4 import BeautifulSoup"
   ]
  },
  {
   "cell_type": "markdown",
   "id": "f8083b96-0d6e-45e0-95f9-8e613c181476",
   "metadata": {},
   "source": [
    "## Scraper"
   ]
  },
  {
   "cell_type": "code",
   "execution_count": 2,
   "id": "70a4c29e-c4aa-4f8c-9e57-e95f42caf4db",
   "metadata": {},
   "outputs": [],
   "source": [
    "def getClinicName(clinic_id):\n",
    "    url         = f'https://{clinic_id}.portal.athenahealth.com/'\n",
    "    response    = requests.get(url)\n",
    "    html        = response.text\n",
    "    soup        = BeautifulSoup(html, 'html.parser')\n",
    "    clinic_name = soup.find_all('h1')[-1].text.strip()\n",
    "    \n",
    "    return clinic_name"
   ]
  },
  {
   "cell_type": "code",
   "execution_count": 3,
   "id": "877be906-6f46-4ff6-9838-c775875bf871",
   "metadata": {},
   "outputs": [
    {
     "data": {
      "text/plain": [
       "\"Women's CenterforIntegrative Health\""
      ]
     },
     "execution_count": 3,
     "metadata": {},
     "output_type": "execute_result"
    }
   ],
   "source": [
    "getClinicName(12696)"
   ]
  },
  {
   "cell_type": "code",
   "execution_count": 4,
   "id": "a734ab34-76cb-45a7-acde-260eca6bb331",
   "metadata": {},
   "outputs": [],
   "source": [
    "start = 12650\n",
    "end   = 12800"
   ]
  },
  {
   "cell_type": "markdown",
   "id": "1dd3cc2d-3c5a-4e79-83c1-0cda4140dab8",
   "metadata": {},
   "source": [
    "## Run Scraper in a Range"
   ]
  },
  {
   "cell_type": "code",
   "execution_count": 5,
   "id": "a7e3d9f4-e2b2-4e1e-8a5d-c471f3e43598",
   "metadata": {},
   "outputs": [
    {
     "name": "stdout",
     "output_type": "stream",
     "text": [
      "12650\n",
      "12660\n",
      "12670\n",
      "12680\n",
      "12690\n",
      "12700\n",
      "12710\n",
      "12720\n",
      "12730\n",
      "12740\n",
      "12750\n",
      "12760\n",
      "12770\n",
      "12780\n",
      "12790\n"
     ]
    }
   ],
   "source": [
    "clinic_list = []\n",
    "\n",
    "for clinic_id in range(start, end):\n",
    "    scraped_data = {}\n",
    "    scraped_data['clinic_id']   = clinic_id\n",
    "    scraped_data['clinic_name'] = getClinicName(clinic_id)\n",
    "    \n",
    "    if (scraped_data['clinic_name'] != 'Payment Confirmation' and scraped_data['clinic_name'] != \"Sorry, we can't find that practice. Make sure you typed the right address.\"):\n",
    "        clinic_list.append(scraped_data)\n",
    "    \n",
    "    if (clinic_id%10 == 0):\n",
    "        print(clinic_id)"
   ]
  },
  {
   "cell_type": "code",
   "execution_count": 6,
   "id": "c0c7a137-68a2-4f28-b821-d8f33cc7f685",
   "metadata": {},
   "outputs": [
    {
     "data": {
      "text/plain": [
       "[{'clinic_id': 12650, 'clinic_name': 'Juan Martin MD, PLLC'},\n",
       " {'clinic_id': 12656, 'clinic_name': 'Iraan General Clinic'},\n",
       " {'clinic_id': 12660, 'clinic_name': 'Zito / Goldstein'},\n",
       " {'clinic_id': 12662, 'clinic_name': 'Patricia Lopez Po, MD'},\n",
       " {'clinic_id': 12663, 'clinic_name': 'Dr. David Zekser'},\n",
       " {'clinic_id': 12664, 'clinic_name': 'Dream Sleep Testing'},\n",
       " {'clinic_id': 12677, 'clinic_name': 'Advanced Family & Urgent Care'},\n",
       " {'clinic_id': 12678, 'clinic_name': 'Michael Goodman, MD'},\n",
       " {'clinic_id': 12680, 'clinic_name': 'Texas Urology Group, PA'},\n",
       " {'clinic_id': 12684, 'clinic_name': 'Education Plus Health'},\n",
       " {'clinic_id': 12685, 'clinic_name': 'John A Walsh, MD'},\n",
       " {'clinic_id': 12686, 'clinic_name': 'Huebner Family Medicine'},\n",
       " {'clinic_id': 12691, 'clinic_name': 'Ergomedica'},\n",
       " {'clinic_id': 12693, 'clinic_name': 'Altamonte Family Practice'},\n",
       " {'clinic_id': 12694, 'clinic_name': 'Open Health Care Clinic'},\n",
       " {'clinic_id': 12695, 'clinic_name': 'Dr. Richard Handelsman'},\n",
       " {'clinic_id': 12696, 'clinic_name': \"Women's CenterforIntegrative Health\"},\n",
       " {'clinic_id': 12697, 'clinic_name': 'Eastern Urological Associates'},\n",
       " {'clinic_id': 12702, 'clinic_name': 'Chand Rohatgi MD'},\n",
       " {'clinic_id': 12703, 'clinic_name': ''},\n",
       " {'clinic_id': 12704, 'clinic_name': 'Volunteer Healthcare Clinic'},\n",
       " {'clinic_id': 12705, 'clinic_name': 'Christ Clinic'},\n",
       " {'clinic_id': 12706, 'clinic_name': 'Olga Joukovski, MD, PA'},\n",
       " {'clinic_id': 12707, 'clinic_name': 'Restore Health Clinic'},\n",
       " {'clinic_id': 12708,\n",
       "  'clinic_name': 'STUART L. SILVERMAN, M.D., A MEDICAL CORPORATION'},\n",
       " {'clinic_id': 12709, 'clinic_name': 'George E. Weems Clinics'},\n",
       " {'clinic_id': 12711, 'clinic_name': 'Texas Neurosurgical Spine'},\n",
       " {'clinic_id': 12713, 'clinic_name': 'Dr. Barry Smith'},\n",
       " {'clinic_id': 12715,\n",
       "  'clinic_name': 'Cornerstone Family Health And Associates'},\n",
       " {'clinic_id': 12717, 'clinic_name': 'Hale County Hospital Authority'},\n",
       " {'clinic_id': 12718, 'clinic_name': 'Samia Kozman MD'},\n",
       " {'clinic_id': 12719, 'clinic_name': 'Regenerative Medical Group'},\n",
       " {'clinic_id': 12721, 'clinic_name': 'Nourish Wellness Family Medicine'},\n",
       " {'clinic_id': 12722, 'clinic_name': 'The Rosa Health Center'},\n",
       " {'clinic_id': 12725, 'clinic_name': 'Deborah Mistal DO PC'},\n",
       " {'clinic_id': 12726, 'clinic_name': 'Denali Family HealthCare, LLC'},\n",
       " {'clinic_id': 12727, 'clinic_name': ''},\n",
       " {'clinic_id': 12728, 'clinic_name': 'Glenda Petrie, NP'},\n",
       " {'clinic_id': 12732, 'clinic_name': 'One Stop Family Clinic'},\n",
       " {'clinic_id': 12733,\n",
       "  'clinic_name': 'Arlington/Mansfield Foot & Ankle Centers'},\n",
       " {'clinic_id': 12735, 'clinic_name': 'The Milan Medical Clinic'},\n",
       " {'clinic_id': 12736, 'clinic_name': 'Columbus Surgical Specialists, LLC'},\n",
       " {'clinic_id': 12737, 'clinic_name': \"DR. LEY'S OFFICE\"},\n",
       " {'clinic_id': 12739, 'clinic_name': 'Virginia Gastroenterology Institute'},\n",
       " {'clinic_id': 12743, 'clinic_name': 'Coastal Kids Pediatrics'},\n",
       " {'clinic_id': 12744, 'clinic_name': 'Patrick A Krzyzewski DPM'},\n",
       " {'clinic_id': 12746, 'clinic_name': 'Southeastern Surgery Inc.'},\n",
       " {'clinic_id': 12747, 'clinic_name': 'Mark Wasserman, MD'},\n",
       " {'clinic_id': 12749,\n",
       "  'clinic_name': 'Prospect Behavioral Pediatrics and Psychiatry, PLL'},\n",
       " {'clinic_id': 12750, 'clinic_name': 'Totoe Medical Group'},\n",
       " {'clinic_id': 12751, 'clinic_name': 'Marianne Baskin CMSW'},\n",
       " {'clinic_id': 12752, 'clinic_name': 'Ascentist Healthcare'},\n",
       " {'clinic_id': 12754, 'clinic_name': 'Pikes Peak Internal Medicine'},\n",
       " {'clinic_id': 12755, 'clinic_name': 'Wee Care Pediatrics'},\n",
       " {'clinic_id': 12756, 'clinic_name': 'Amory Surgery Clinic'},\n",
       " {'clinic_id': 12759, 'clinic_name': 'Total Wellness Medical Care'},\n",
       " {'clinic_id': 12760, 'clinic_name': 'Infectious Disease Specialists of CT'},\n",
       " {'clinic_id': 12762, 'clinic_name': 'Spencer Phillips, MD'},\n",
       " {'clinic_id': 12770, 'clinic_name': 'Caduceus Solutions PLLC'},\n",
       " {'clinic_id': 12771, 'clinic_name': 'Ruetzel Gynecology & Obstetrics'},\n",
       " {'clinic_id': 12772, 'clinic_name': 'Dr. Peter Zeale'},\n",
       " {'clinic_id': 12774, 'clinic_name': 'JOHN EDWARD KELLY, M.D., P.A.'},\n",
       " {'clinic_id': 12775, 'clinic_name': 'Pace Healthcare, LLC'},\n",
       " {'clinic_id': 12777,\n",
       "  'clinic_name': 'The Diabetes and Endocrinology Center of Pensacola'},\n",
       " {'clinic_id': 12780, 'clinic_name': 'Imani House Medical Services'},\n",
       " {'clinic_id': 12781, 'clinic_name': 'Surya Health Care'},\n",
       " {'clinic_id': 12783, 'clinic_name': 'Melvin A Martinez-Castrillon'},\n",
       " {'clinic_id': 12786, 'clinic_name': 'Patricia A. McCalley, CNM, LLC'},\n",
       " {'clinic_id': 12787, 'clinic_name': 'Behm Family Practice, LLC'},\n",
       " {'clinic_id': 12795, 'clinic_name': 'KATHY L ADAMS-BERRY, MD'},\n",
       " {'clinic_id': 12798, 'clinic_name': 'Dr. Timothy Real'},\n",
       " {'clinic_id': 12799,\n",
       "  'clinic_name': 'Paoli Dermatology and Plastic Surgery Group'}]"
      ]
     },
     "execution_count": 6,
     "metadata": {},
     "output_type": "execute_result"
    }
   ],
   "source": [
    "clinic_list"
   ]
  },
  {
   "cell_type": "markdown",
   "id": "af68e41b-3501-475a-96ea-d8a53dc44bf2",
   "metadata": {},
   "source": [
    "## Convert to DataFrame"
   ]
  },
  {
   "cell_type": "code",
   "execution_count": 7,
   "id": "6ea8acf7-b8c6-45b9-86fd-e164b1a782bf",
   "metadata": {},
   "outputs": [],
   "source": [
    "clinics = pd.DataFrame(clinic_list)"
   ]
  },
  {
   "cell_type": "markdown",
   "id": "a6409674-b48d-4407-b0fb-c734edf7ad21",
   "metadata": {},
   "source": [
    "## Export Data to CSV"
   ]
  },
  {
   "cell_type": "code",
   "execution_count": 9,
   "id": "32f38413-5d29-4f2d-9c5e-0dc245872f69",
   "metadata": {},
   "outputs": [],
   "source": [
    "clinics.to_csv('clinics.csv')"
   ]
  }
 ],
 "metadata": {
  "kernelspec": {
   "display_name": "Python 3",
   "language": "python",
   "name": "python3"
  },
  "language_info": {
   "codemirror_mode": {
    "name": "ipython",
    "version": 3
   },
   "file_extension": ".py",
   "mimetype": "text/x-python",
   "name": "python",
   "nbconvert_exporter": "python",
   "pygments_lexer": "ipython3",
   "version": "3.8.8"
  }
 },
 "nbformat": 4,
 "nbformat_minor": 5
}
